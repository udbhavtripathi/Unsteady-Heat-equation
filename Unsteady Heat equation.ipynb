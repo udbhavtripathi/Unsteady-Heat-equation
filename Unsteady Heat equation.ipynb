{
 "cells": [
  {
   "cell_type": "markdown",
   "id": "stopped-applicant",
   "metadata": {},
   "source": [
    "$ du/dt=d^2u/dx^2 + d^2u/dy^2 +f $"
   ]
  },
  {
   "cell_type": "code",
   "execution_count": 1,
   "id": "subjective-bobby",
   "metadata": {},
   "outputs": [],
   "source": [
    "# u=u_D on Domega\n",
    "#u=u0 at t=0"
   ]
  },
  {
   "cell_type": "code",
   "execution_count": 2,
   "id": "played-oxide",
   "metadata": {},
   "outputs": [],
   "source": [
    "from __future__ import print_function\n",
    "from fenics import *\n",
    "import matplotlib.pyplot as plt\n",
    "import scipy\n",
    "import numpy as np"
   ]
  },
  {
   "cell_type": "markdown",
   "id": "trained-therapy",
   "metadata": {},
   "source": [
    "## Set variables"
   ]
  },
  {
   "cell_type": "code",
   "execution_count": 3,
   "id": "incredible-tutorial",
   "metadata": {},
   "outputs": [],
   "source": [
    "T=2.0\n",
    "steps=10\n",
    "dt=T/steps"
   ]
  },
  {
   "cell_type": "markdown",
   "id": "multiple-heaven",
   "metadata": {},
   "source": [
    "## Generate Mesh"
   ]
  },
  {
   "cell_type": "code",
   "execution_count": 4,
   "id": "generous-theory",
   "metadata": {},
   "outputs": [
    {
     "data": {
      "text/plain": [
       "[<matplotlib.lines.Line2D at 0x7f9151ddff10>,\n",
       " <matplotlib.lines.Line2D at 0x7f9151df22e0>]"
      ]
     },
     "metadata": {},
     "output_type": "display_data"
    },
    {
     "data": {
      "image/png": "[encoded data removed]",
      "text/plain": [
       "<Figure size 576x360 with 1 Axes>"
      ]
     },
     "metadata": {
      "needs_background": "light"
     },
     "output_type": "display_data"
    }
   ],
   "source": [
    "mesh= UnitSquareMesh(8,8)\n",
    "#display mesh\n",
    "plt.figure(figsize=(8, 5)) \n",
    "display(plot(mesh)) \n"
   ]
  },
  {
   "cell_type": "markdown",
   "id": "italian-coral",
   "metadata": {},
   "source": [
    "## Define the functional space"
   ]
  },
  {
   "cell_type": "code",
   "execution_count": 5,
   "id": "straight-linux",
   "metadata": {},
   "outputs": [],
   "source": [
    "V=FunctionSpace(mesh,'P',1)"
   ]
  },
  {
   "cell_type": "markdown",
   "id": "cultural-columbus",
   "metadata": {},
   "source": [
    "## Define the boundary condition"
   ]
  },
  {
   "cell_type": "code",
   "execution_count": 6,
   "id": "occasional-great",
   "metadata": {},
   "outputs": [],
   "source": [
    "alpha=3\n",
    "beta=1.2\n",
    "#\n",
    "u_D=Expression('1+x[0]*x[0]+alpha*x[1]*x[1]+beta*t',degree=2,t=0,alpha=alpha,beta=beta)\n",
    "def boundary(x, on_boundary):\n",
    "    return on_boundary\n",
    "bc = DirichletBC(V, u_D, boundary)"
   ]
  },
  {
   "cell_type": "markdown",
   "id": "binary-intelligence",
   "metadata": {},
   "source": [
    "## Set the initial condition"
   ]
  },
  {
   "cell_type": "code",
   "execution_count": 7,
   "id": "filled-mission",
   "metadata": {},
   "outputs": [],
   "source": [
    "#initial condition by interpolation\n",
    "u_n=interpolate(u_D,V)\n"
   ]
  },
  {
   "cell_type": "markdown",
   "id": "romance-chambers",
   "metadata": {},
   "source": [
    "## Define the variational problem"
   ]
  },
  {
   "cell_type": "code",
   "execution_count": 8,
   "id": "sticky-front",
   "metadata": {},
   "outputs": [],
   "source": [
    "# Defining test and trial function\n",
    "u=TrialFunction(V)\n",
    "v=TestFunction(V)\n",
    "f=Constant(beta-2-2*alpha)\n",
    "# Defining the Function F and converting it into bilnear a(u,v) and linear L(v) form\n",
    "F=u*v*dx+dt*dot(grad(u),grad(v))*dx-(u_n+dt*f)*v*dx\n",
    "a,l=lhs(F),rhs(F)\n"
   ]
  },
  {
   "cell_type": "markdown",
   "id": "enabling-mirror",
   "metadata": {},
   "source": [
    "## Computing solution"
   ]
  },
  {
   "cell_type": "code",
   "execution_count": 9,
   "id": "interested-simon",
   "metadata": {},
   "outputs": [
    {
     "name": "stdout",
     "output_type": "stream",
     "text": [
      "t = 0.20: error = 3.11e-15\n",
      "t = 0.40: error = 2.66e-15\n",
      "t = 0.60: error = 3.55e-15\n",
      "t = 0.80: error = 3.55e-15\n",
      "t = 1.00: error = 3.55e-15\n",
      "t = 1.20: error = 4e-15\n",
      "t = 1.40: error = 4.44e-15\n",
      "t = 1.60: error = 3.55e-15\n",
      "t = 1.80: error = 4.44e-15\n",
      "t = 2.00: error = 4.44e-15\n",
      "t = 2.20: error = 5.33e-15\n"
     ]
    }
   ],
   "source": [
    "u=Function(V)\n",
    "t=0\n",
    "while(t<T):\n",
    "    #updating time by dt\n",
    "    t=t+dt\n",
    "    #setting t in the u_D expression as updated time\n",
    "    u_D.t=t\n",
    "    #solving\n",
    "    solve(a==l,u,bc)\n",
    "    #updating the previous solution\n",
    "    u_n.assign(u)\n",
    "    # Compute error at vertices\n",
    "    u_e = interpolate(u_D, V)\n",
    "    error = np.abs(u_e.vector().get_local() - u.vector().get_local()).max()\n",
    "    print('t = %.2f: error = %.3g' % (t, error))"
   ]
  },
  {
   "cell_type": "markdown",
   "id": "christian-victim",
   "metadata": {},
   "source": [
    "## Plot final solution"
   ]
  },
  {
   "cell_type": "code",
   "execution_count": 10,
   "id": "federal-apparel",
   "metadata": {},
   "outputs": [
    {
     "data": {
      "text/plain": [
       "<matplotlib.tri.tricontour.TriContourSet at 0x7f9151808880>"
      ]
     },
     "execution_count": 10,
     "metadata": {},
     "output_type": "execute_result"
    },
    {
     "data": {
      "image/png": "[encoded data removed]",
      "text/plain": [
       "<Figure size 720x576 with 1 Axes>"
      ]
     },
     "metadata": {
      "needs_background": "light"
     },
     "output_type": "display_data"
    }
   ],
   "source": [
    "plt.figure(figsize=(10,8))\n",
    "plot(u)"
   ]
  }
 ],
 "metadata": {
  "kernelspec": {
   "display_name": "Python 3",
   "language": "python",
   "name": "python3"
  },
  "language_info": {
   "codemirror_mode": {
    "name": "ipython",
    "version": 3
   },
   "file_extension": ".py",
   "mimetype": "text/x-python",
   "name": "python",
   "nbconvert_exporter": "python",
   "pygments_lexer": "ipython3",
   "version": "3.8.5"
  }
 },
 "nbformat": 4,
 "nbformat_minor": 5
}